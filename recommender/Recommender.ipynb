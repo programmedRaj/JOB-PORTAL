{
 "cells": [
  {
   "cell_type": "markdown",
   "metadata": {},
   "source": [
    "<img src='./recommender.jpeg'/>"
   ]
  },
  {
   "cell_type": "code",
   "execution_count": 3,
   "metadata": {},
   "outputs": [],
   "source": [
    "import pandas as pd"
   ]
  },
  {
   "cell_type": "code",
   "execution_count": 4,
   "metadata": {},
   "outputs": [],
   "source": [
    "a=pd.read_excel('data.xlsx')"
   ]
  },
  {
   "cell_type": "code",
   "execution_count": 35,
   "metadata": {},
   "outputs": [
    {
     "data": {
      "text/html": [
       "<div>\n",
       "<style scoped>\n",
       "    .dataframe tbody tr th:only-of-type {\n",
       "        vertical-align: middle;\n",
       "    }\n",
       "\n",
       "    .dataframe tbody tr th {\n",
       "        vertical-align: top;\n",
       "    }\n",
       "\n",
       "    .dataframe thead th {\n",
       "        text-align: right;\n",
       "    }\n",
       "</style>\n",
       "<table border=\"1\" class=\"dataframe\">\n",
       "  <thead>\n",
       "    <tr style=\"text-align: right;\">\n",
       "      <th></th>\n",
       "      <th>USERS</th>\n",
       "      <th>Applied</th>\n",
       "      <th>timeStamp</th>\n",
       "    </tr>\n",
       "  </thead>\n",
       "  <tbody>\n",
       "    <tr>\n",
       "      <th>0</th>\n",
       "      <td>3</td>\n",
       "      <td>Back-end</td>\n",
       "      <td>2020-08-01 11:00:00</td>\n",
       "    </tr>\n",
       "    <tr>\n",
       "      <th>1</th>\n",
       "      <td>1</td>\n",
       "      <td>Front-end</td>\n",
       "      <td>2020-08-05 08:00:00</td>\n",
       "    </tr>\n",
       "    <tr>\n",
       "      <th>2</th>\n",
       "      <td>2</td>\n",
       "      <td>machine learning</td>\n",
       "      <td>2020-08-04 12:00:00</td>\n",
       "    </tr>\n",
       "    <tr>\n",
       "      <th>3</th>\n",
       "      <td>2</td>\n",
       "      <td>data scientist</td>\n",
       "      <td>2020-08-07 10:00:00</td>\n",
       "    </tr>\n",
       "    <tr>\n",
       "      <th>4</th>\n",
       "      <td>1</td>\n",
       "      <td>machine learning</td>\n",
       "      <td>2020-08-25 11:00:00</td>\n",
       "    </tr>\n",
       "    <tr>\n",
       "      <th>5</th>\n",
       "      <td>2</td>\n",
       "      <td>analyst</td>\n",
       "      <td>2020-08-20 10:00:00</td>\n",
       "    </tr>\n",
       "    <tr>\n",
       "      <th>6</th>\n",
       "      <td>1</td>\n",
       "      <td>Back-end</td>\n",
       "      <td>2020-08-11 11:00:00</td>\n",
       "    </tr>\n",
       "    <tr>\n",
       "      <th>7</th>\n",
       "      <td>3</td>\n",
       "      <td>data scientist</td>\n",
       "      <td>2021-08-01 11:00:00</td>\n",
       "    </tr>\n",
       "  </tbody>\n",
       "</table>\n",
       "</div>"
      ],
      "text/plain": [
       "   USERS           Applied           timeStamp\n",
       "0      3          Back-end 2020-08-01 11:00:00\n",
       "1      1        Front-end  2020-08-05 08:00:00\n",
       "2      2  machine learning 2020-08-04 12:00:00\n",
       "3      2    data scientist 2020-08-07 10:00:00\n",
       "4      1  machine learning 2020-08-25 11:00:00\n",
       "5      2           analyst 2020-08-20 10:00:00\n",
       "6      1          Back-end 2020-08-11 11:00:00\n",
       "7      3    data scientist 2021-08-01 11:00:00"
      ]
     },
     "execution_count": 35,
     "metadata": {},
     "output_type": "execute_result"
    }
   ],
   "source": [
    "a.head(10)"
   ]
  },
  {
   "cell_type": "code",
   "execution_count": 36,
   "metadata": {},
   "outputs": [
    {
     "data": {
      "text/plain": [
       "0            Back-end\n",
       "1          Front-end \n",
       "2    machine learning\n",
       "3      data scientist\n",
       "4    machine learning\n",
       "5             analyst\n",
       "6            Back-end\n",
       "7      data scientist\n",
       "Name: Applied, dtype: object"
      ]
     },
     "execution_count": 36,
     "metadata": {},
     "output_type": "execute_result"
    }
   ],
   "source": [
    "find='Back-end'\n",
    "a['Applied'] "
   ]
  },
  {
   "cell_type": "code",
   "execution_count": 5,
   "metadata": {
    "scrolled": true
   },
   "outputs": [],
   "source": [
    "def recommender(find):\n",
    "    a=pd.read_excel('data.xlsx')\n",
    "    \n",
    "    semiPred={}\n",
    "    users=[]\n",
    "    j=-1\n",
    "    for i in a['Applied']:\n",
    "        j+=1\n",
    "        if find in i:\n",
    "            users.append(a.loc[j]['USERS'])\n",
    "    for i in users:\n",
    "        j=-1\n",
    "        loc=0\n",
    "        b=a[a['USERS']==i].sort_values(by='timeStamp')\n",
    "        b.reset_index(inplace = True) \n",
    "        for k in b['Applied']:\n",
    "            j+=1\n",
    "            if find in k:\n",
    "                loc=j\n",
    "        #print(loc)        \n",
    "        semiPred[i]= (b.loc[loc+1]['timeStamp']-b.loc[loc]['timeStamp']).days\n",
    "    predictedCluster=min(semiPred.keys(), key=(lambda k: semiPred[k])) \n",
    "    j=-1\n",
    "    mainCluster=a[a['USERS']==predictedCluster].sort_values(by='timeStamp')\n",
    "    mainCluster.reset_index(inplace = True) \n",
    "    #print(mainCluster)\n",
    "    loc=0\n",
    "    for i in mainCluster['Applied']:# for finding last required course from cluster\n",
    "        j+=1\n",
    "        if find in i:\n",
    "            loc=j\n",
    "    #print(loc)        \n",
    "    #print(mainCluster['Applied'])        \n",
    "    return mainCluster['Applied'][loc+1]        \n",
    "    "
   ]
  },
  {
   "cell_type": "code",
   "execution_count": 6,
   "metadata": {},
   "outputs": [
    {
     "data": {
      "text/plain": [
       "'machine learning'"
      ]
     },
     "execution_count": 6,
     "metadata": {},
     "output_type": "execute_result"
    }
   ],
   "source": [
    "find='Back-end'\n",
    "recommender(find)"
   ]
  },
  {
   "cell_type": "code",
   "execution_count": 8,
   "metadata": {},
   "outputs": [],
   "source": [
    "a=pd.read_excel('data.xlsx')\n",
    "find='Back-end'"
   ]
  },
  {
   "cell_type": "code",
   "execution_count": 9,
   "metadata": {},
   "outputs": [],
   "source": [
    "users=[]\n",
    "j=-1\n",
    "for i in a['Applied']:\n",
    "    j+=1\n",
    "    if find in i:\n",
    "        users.append(a.loc[j]['USERS'])"
   ]
  },
  {
   "cell_type": "code",
   "execution_count": 10,
   "metadata": {},
   "outputs": [
    {
     "data": {
      "text/plain": [
       "[3, 1]"
      ]
     },
     "execution_count": 10,
     "metadata": {},
     "output_type": "execute_result"
    }
   ],
   "source": [
    "users"
   ]
  },
  {
   "cell_type": "code",
   "execution_count": 11,
   "metadata": {},
   "outputs": [],
   "source": [
    "semiPred={}\n",
    "for i in users:\n",
    "    j=-1\n",
    "    loc=0\n",
    "    b=a[a['USERS']==i].sort_values(by='timeStamp')\n",
    "    b.reset_index(inplace = True) \n",
    "    for k in b['Applied']:\n",
    "        j+=1\n",
    "        if find in k:\n",
    "            loc=j\n",
    "    #print(loc)        \n",
    "    semiPred[i]= (b.loc[loc+1]['timeStamp']-b.loc[loc]['timeStamp']).days"
   ]
  },
  {
   "cell_type": "code",
   "execution_count": 12,
   "metadata": {},
   "outputs": [
    {
     "data": {
      "text/plain": [
       "{3: 365, 1: 14}"
      ]
     },
     "execution_count": 12,
     "metadata": {},
     "output_type": "execute_result"
    }
   ],
   "source": [
    "semiPred"
   ]
  },
  {
   "cell_type": "code",
   "execution_count": 13,
   "metadata": {},
   "outputs": [],
   "source": [
    "predictedCluster=min(semiPred.keys(), key=(lambda k: semiPred[k])) \n",
    "j=-1\n",
    "mainCluster=a[a['USERS']==predictedCluster].sort_values(by='timeStamp')\n",
    "mainCluster.reset_index(inplace = True) \n",
    "#print(mainCluster)\n",
    "loc=0\n",
    "for i in mainCluster['Applied']:# for finding last required course from cluster\n",
    "    j+=1\n",
    "    if find in i:\n",
    "        loc=j"
   ]
  },
  {
   "cell_type": "code",
   "execution_count": 14,
   "metadata": {},
   "outputs": [
    {
     "data": {
      "text/plain": [
       "'machine learning'"
      ]
     },
     "execution_count": 14,
     "metadata": {},
     "output_type": "execute_result"
    }
   ],
   "source": [
    "mainCluster['Applied'][loc+1]"
   ]
  },
  {
   "cell_type": "code",
   "execution_count": null,
   "metadata": {},
   "outputs": [],
   "source": []
  }
 ],
 "metadata": {
  "kernelspec": {
   "display_name": "Python 3",
   "language": "python",
   "name": "python3"
  },
  "language_info": {
   "codemirror_mode": {
    "name": "ipython",
    "version": 3
   },
   "file_extension": ".py",
   "mimetype": "text/x-python",
   "name": "python",
   "nbconvert_exporter": "python",
   "pygments_lexer": "ipython3",
   "version": "3.8.2"
  }
 },
 "nbformat": 4,
 "nbformat_minor": 4
}
